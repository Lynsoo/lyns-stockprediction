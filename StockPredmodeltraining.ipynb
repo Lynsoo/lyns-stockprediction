{
 "cells": [
  {
   "cell_type": "code",
   "execution_count": 1,
   "metadata": {},
   "outputs": [],
   "source": [
    "import torch\n",
    "import torch.nn as nn\n",
    "import pandas as pd\n",
    "import numpy as np\n",
    "import matplotlib.pyplot as plt\n",
    "import plotly.graph_objects as go\n",
    "import seaborn as sns\n",
    "import pandas as pd"
   ]
  },
  {
   "cell_type": "code",
   "execution_count": 2,
   "metadata": {},
   "outputs": [],
   "source": [
    "import matplotlib.dates as mdates"
   ]
  },
  {
   "cell_type": "code",
   "execution_count": 3,
   "metadata": {},
   "outputs": [],
   "source": [
    "import math\n",
    "import plotly.express as px"
   ]
  },
  {
   "cell_type": "code",
   "execution_count": 4,
   "metadata": {},
   "outputs": [],
   "source": [
    "from torch.utils.data import Dataset, DataLoader"
   ]
  },
  {
   "cell_type": "code",
   "execution_count": 5,
   "metadata": {},
   "outputs": [],
   "source": [
    "import yfinance as yf #importing yahoo finance\n",
    "from datetime import date, timedelta, datetime"
   ]
  },
  {
   "cell_type": "code",
   "execution_count": 6,
   "metadata": {},
   "outputs": [],
   "source": [
    "euronext = pd.read_csv('/teamspace/studios/this_studio/stockpred/eurotickers.csv', sep=';')"
   ]
  },
  {
   "cell_type": "code",
   "execution_count": 7,
   "metadata": {},
   "outputs": [],
   "source": [
    "euronext_f = euronext[['Name', 'Symbol']]"
   ]
  },
  {
   "cell_type": "code",
   "execution_count": 8,
   "metadata": {},
   "outputs": [],
   "source": [
    "# fetching S&P 500 stocks \n",
    "table = pd.read_html('https://en.wikipedia.org/wiki/List_of_S%26P_500_companies')\n",
    "sp500_stocks = table[0]\n",
    "\n",
    "# extracting tickers and company names\n",
    "tickers = sp500_stocks['Symbol'].tolist()\n",
    "companies = sp500_stocks['Security'].tolist()\n",
    "\n",
    "# creating a dataframe\n",
    "dictionary = pd.DataFrame({\n",
    "    'Name': companies,\n",
    "    'Symbol': tickers,\n",
    "})\n",
    "\n",
    "# saving to CSV\n",
    "tickerlist = dictionary.to_dict(orient='records')"
   ]
  },
  {
   "cell_type": "code",
   "execution_count": 9,
   "metadata": {},
   "outputs": [
    {
     "name": "stdout",
     "output_type": "stream",
     "text": [
      "                     Name Symbol\n",
      "0                      3M    MMM\n",
      "1             A. O. Smith    AOS\n",
      "2     Abbott Laboratories    ABT\n",
      "3                  AbbVie   ABBV\n",
      "4               Accenture    ACN\n",
      "...                   ...    ...\n",
      "3972   ZOOM COMMUNICATION    1ZM\n",
      "3973   ZOOM COMMUNICATION    2ZM\n",
      "3974               ZUCCHI    ZUC\n",
      "3975                ZWIPE  ZWIPE\n",
      "3976             ZWIPE TR  ZWIPJ\n",
      "\n",
      "[3977 rows x 2 columns]\n"
     ]
    }
   ],
   "source": [
    "combined_data= pd.concat([dictionary, euronext_f], ignore_index=True)\n",
    "print(combined_data)"
   ]
  },
  {
   "cell_type": "code",
   "execution_count": 10,
   "metadata": {},
   "outputs": [],
   "source": [
    "company = input(\"Enter the company's name\")\n",
    "df = None"
   ]
  },
  {
   "cell_type": "code",
   "execution_count": 11,
   "metadata": {},
   "outputs": [
    {
     "name": "stderr",
     "output_type": "stream",
     "text": [
      "[*********************100%***********************]  1 of 1 completed"
     ]
    },
    {
     "name": "stdout",
     "output_type": "stream",
     "text": [
      "YF.download() has changed argument auto_adjust default to True\n"
     ]
    },
    {
     "name": "stderr",
     "output_type": "stream",
     "text": [
      "\n"
     ]
    }
   ],
   "source": [
    "if company:  # checking if the user has entered a ticker\n",
    "    try:\n",
    "        matching_tickers = combined_data[combined_data['Name'].str.contains(company, case=False)]\n",
    "        if not matching_tickers.empty:\n",
    "            tickers = matching_tickers['Symbol'].tolist()\n",
    "            \n",
    "            if len(tickers) > 1:\n",
    "                ticker = tickers[0]\n",
    "            # Downloading historical stock data for the entered ticker\n",
    "            df = yf.download(ticker, period = '10y')\n",
    "\n",
    "        \n",
    "    except Exception as e:\n",
    "            print(f\"An error occurred: {e}\")\n",
    "else:\n",
    "    print(\"Please enter a valid company.\")\n"
   ]
  },
  {
   "cell_type": "code",
   "execution_count": 12,
   "metadata": {},
   "outputs": [],
   "source": [
    "if df.empty : \n",
    "    print(\"dataset is empty\")"
   ]
  },
  {
   "cell_type": "code",
   "execution_count": 13,
   "metadata": {},
   "outputs": [
    {
     "name": "stdout",
     "output_type": "stream",
     "text": [
      "(2013, 1) (503, 1)\n"
     ]
    }
   ],
   "source": [
    "# Train Test Split\n",
    "training_data_len = math.ceil(len(df)*.8)\n",
    "training_data_len\n",
    "\n",
    "train_data = df[:training_data_len][[('Open', ticker)]]\n",
    "test_data = df[training_data_len:][[('Open', ticker)]]\n",
    "\n",
    "print(train_data.shape, test_data.shape)"
   ]
  },
  {
   "cell_type": "code",
   "execution_count": 14,
   "metadata": {},
   "outputs": [
    {
     "data": {
      "text/plain": [
       "MultiIndex([('Open', 'NVDA')],\n",
       "           names=['Price', 'Ticker'])"
      ]
     },
     "execution_count": 14,
     "metadata": {},
     "output_type": "execute_result"
    }
   ],
   "source": [
    "test_data.columns"
   ]
  },
  {
   "cell_type": "code",
   "execution_count": 15,
   "metadata": {},
   "outputs": [
    {
     "data": {
      "text/plain": [
       "(503, 1)"
      ]
     },
     "execution_count": 15,
     "metadata": {},
     "output_type": "execute_result"
    }
   ],
   "source": [
    "# open price values\n",
    "try :\n",
    "  dataset_test = test_data.Open.values\n",
    "except :\n",
    "  dataset_test = test_data[('Open', ticker)].values\n",
    "#1D to 2D\n",
    "dataset_test = np.reshape(dataset_test, (-1,1))\n",
    "dataset_test.shape"
   ]
  },
  {
   "cell_type": "code",
   "execution_count": 16,
   "metadata": {},
   "outputs": [
    {
     "data": {
      "text/plain": [
       "(2013, 1)"
      ]
     },
     "execution_count": 16,
     "metadata": {},
     "output_type": "execute_result"
    }
   ],
   "source": [
    "dataset_train = train_data.Open.values\n",
    "dataset_train = np.reshape(dataset_train, (-1,1))\n",
    "dataset_train.shape"
   ]
  },
  {
   "cell_type": "code",
   "execution_count": 17,
   "metadata": {},
   "outputs": [
    {
     "name": "stdout",
     "output_type": "stream",
     "text": [
      "[[0.00230841]\n",
      " [0.00195786]\n",
      " [0.00216235]\n",
      " [0.00220616]\n",
      " [0.00208201]]\n",
      "[0.] [0.0004818] [0.00812727] [0.00676875] [0.00921721]\n"
     ]
    }
   ],
   "source": [
    "from sklearn.preprocessing import MinMaxScaler\n",
    "scaler = MinMaxScaler(feature_range=(0,1))\n",
    "\n",
    "# scaling dataset\n",
    "scaled_train= scaler.fit_transform(dataset_train)\n",
    "\n",
    "print(scaled_train[:5])\n",
    "# normalizing values between 0 and 1\n",
    "scaled_test = scaler.fit_transform(dataset_test)\n",
    "print(*scaled_test[:5])"
   ]
  },
  {
   "cell_type": "code",
   "execution_count": 18,
   "metadata": {},
   "outputs": [
    {
     "data": {
      "text/plain": [
       "(torch.Size([1983, 30, 1]), torch.Size([1983, 30, 1]))"
      ]
     },
     "execution_count": 18,
     "metadata": {},
     "output_type": "execute_result"
    }
   ],
   "source": [
    "#creating sequences and labels for training data\n",
    "sequence_length = 30 # nb of time steps to look back\n",
    "X_train, y_train = [], []\n",
    "for i in range(len(scaled_train) - sequence_length):\n",
    "    X_train.append(scaled_train[i:i+sequence_length])\n",
    "    y_train.append(scaled_train[i+1:i+sequence_length+1])\n",
    "X_train, y_train = np.array(X_train), np.array(y_train)\n",
    "\n",
    "#converting data to Pytorch tensors\n",
    "X_train = torch.tensor(X_train, dtype=torch.float32)\n",
    "y_train = torch.tensor(y_train, dtype=torch.float32)\n",
    "X_train.shape, y_train.shape"
   ]
  },
  {
   "cell_type": "code",
   "execution_count": 19,
   "metadata": {},
   "outputs": [
    {
     "data": {
      "text/plain": [
       "(torch.Size([473, 30, 1]), torch.Size([473, 30, 1]))"
      ]
     },
     "execution_count": 19,
     "metadata": {},
     "output_type": "execute_result"
    }
   ],
   "source": [
    "#creating sequences and labels for testing data\n",
    "sequence_length = 30 #nb of time steps to look back\n",
    "X_test, y_test = [], []\n",
    "for i in range(len(scaled_test) - sequence_length):\n",
    "    X_test.append(scaled_test[i:i+sequence_length])\n",
    "    y_test.append(scaled_test[i+1:i+sequence_length+1])\n",
    "X_test, y_test = np.array(X_test), np.array(y_test)\n",
    "\n",
    "#converting data to Pytorch tensors\n",
    "X_test = torch.tensor(X_test, dtype=torch.float32)\n",
    "y_test = torch.tensor(y_test, dtype=torch.float32)\n",
    "X_test.shape, y_test.shape"
   ]
  },
  {
   "cell_type": "code",
   "execution_count": 20,
   "metadata": {},
   "outputs": [],
   "source": [
    "class LSTMModel(nn.Module):\n",
    "      #input_size : number of features in input at each time step\n",
    "      #hidden_size : number of LSTM units\n",
    "      #num_layers : number of LSTM layers\n",
    "    def __init__(self, input_size, hidden_size, num_layers):\n",
    "      super(LSTMModel,self).__init__() #initializes the parent class nn.Module\n",
    "      self.lstm = nn.LSTM(input_size, hidden_size, num_layers, batch_first=True)\n",
    "      self.linear = nn.Linear(hidden_size, 1)\n",
    "\n",
    "    def forward(self, x): #defines forward pass of the neural network\n",
    "      out, _ =self.lstm(x)\n",
    "      out = self.linear(out)\n",
    "      return out"
   ]
  },
  {
   "cell_type": "code",
   "execution_count": 21,
   "metadata": {},
   "outputs": [
    {
     "name": "stdout",
     "output_type": "stream",
     "text": [
      "cpu\n"
     ]
    }
   ],
   "source": [
    "device = torch.device('cuda' if torch.cuda.is_available() else 'cpu')\n",
    "print(device)"
   ]
  },
  {
   "cell_type": "code",
   "execution_count": 22,
   "metadata": {},
   "outputs": [
    {
     "name": "stdout",
     "output_type": "stream",
     "text": [
      "LSTMModel(\n",
      "  (lstm): LSTM(1, 64, num_layers=2, batch_first=True)\n",
      "  (linear): Linear(in_features=64, out_features=1, bias=True)\n",
      ")\n"
     ]
    }
   ],
   "source": [
    "input_size = 1\n",
    "num_layers = 2\n",
    "hidden_size = 64\n",
    "output_size = 1\n",
    "\n",
    "# defining  the model + loss function + optimizer\n",
    "model = LSTMModel(input_size, hidden_size, num_layers).to(device)\n",
    "\n",
    "loss_fn = torch.nn.MSELoss(reduction='mean')\n",
    "\n",
    "optimizer=torch.optim.Adam(model.parameters(), lr=1e-3)\n",
    "print(model)"
   ]
  },
  {
   "cell_type": "code",
   "execution_count": 24,
   "metadata": {},
   "outputs": [],
   "source": [
    "batch_size = 32\n",
    "# creating DataLoader for batch training\n",
    "train_dataset = torch.utils.data.TensorDataset(X_train, y_train)\n",
    "train_loader = torch.utils.data.DataLoader(train_dataset, batch_size=batch_size, shuffle=True)\n",
    "\n",
    "#creating Dataloader for batch testing\n",
    "test_dataset = torch.utils.data.TensorDataset(X_test, y_test)\n",
    "test_loader = torch.utils.data.DataLoader(test_dataset, batch_size=batch_size, shuffle=True)"
   ]
  },
  {
   "cell_type": "code",
   "execution_count": 25,
   "metadata": {},
   "outputs": [
    {
     "name": "stdout",
     "output_type": "stream",
     "text": [
      "epoch[10/100] - Training Loss : 0.0005, Test Loss : 0.0012\n",
      "epoch[20/100] - Training Loss : 0.0002, Test Loss : 0.0007\n",
      "epoch[30/100] - Training Loss : 0.0002, Test Loss : 0.0007\n",
      "epoch[40/100] - Training Loss : 0.0002, Test Loss : 0.0007\n",
      "epoch[50/100] - Training Loss : 0.0002, Test Loss : 0.0007\n",
      "epoch[60/100] - Training Loss : 0.0002, Test Loss : 0.0007\n",
      "epoch[70/100] - Training Loss : 0.0002, Test Loss : 0.0007\n",
      "epoch[80/100] - Training Loss : 0.0002, Test Loss : 0.0007\n",
      "epoch[90/100] - Training Loss : 0.0002, Test Loss : 0.0007\n",
      "epoch[100/100] - Training Loss : 0.0002, Test Loss : 0.0008\n"
     ]
    }
   ],
   "source": [
    "num_epochs = 100\n",
    "train_hist =[]\n",
    "test_hist =[]\n",
    "#training loop\n",
    "for epoch in range(num_epochs):\n",
    "    total_loss = 0.0\n",
    "\n",
    "    #training\n",
    "    model.train()\n",
    "    for batch_X, batch_y in train_loader:\n",
    "        batch_X, batch_y = batch_X.to(device), batch_y.to(device)\n",
    "        predictions = model(batch_X)\n",
    "        loss=loss_fn(predictions, batch_y)\n",
    "\n",
    "        optimizer.zero_grad()\n",
    "        loss.backward()\n",
    "        optimizer.step()\n",
    "\n",
    "        total_loss += loss.item()\n",
    "\n",
    "     # calculating average training loss and accuracy\n",
    "    average_loss = total_loss /len(train_loader)\n",
    "    train_hist.append(average_loss)\n",
    "\n",
    "    # validation on test data\n",
    "    model.eval()\n",
    "    with torch.no_grad():\n",
    "       total_test_loss = 0.0\n",
    "\n",
    "       for batch_X_test, batch_y_test in test_loader:\n",
    "           batch_X_test, batch_y_test = batch_X_test.to(device), batch_y_test.to(device)\n",
    "           predictions_test = model(batch_X_test)\n",
    "           test_loss = loss_fn(predictions_test, batch_y_test)\n",
    "\n",
    "           total_test_loss += test_loss.item()\n",
    "       #calculating average test loss and accuracy\n",
    "       average_test_loss = total_test_loss / len(test_loader)\n",
    "       test_hist.append(average_test_loss)\n",
    "    if (epoch+1)%10==0:\n",
    "      print(f'epoch[{epoch+1}/{num_epochs}] - Training Loss : {average_loss:.4f}, Test Loss : {average_test_loss:.4f}')"
   ]
  },
  {
   "cell_type": "code",
   "execution_count": 26,
   "metadata": {},
   "outputs": [
    {
     "data": {
      "image/png": "[encoded data removed]",
      "text/plain": [
       "<Figure size 640x480 with 1 Axes>"
      ]
     },
     "metadata": {},
     "output_type": "display_data"
    }
   ],
   "source": [
    "x = np.linspace(1,num_epochs,num_epochs)\n",
    "plt.plot(x,train_hist,scalex= True, label=\"Training loss\")\n",
    "plt.plot(x, test_hist, label=\"Test loss\")\n",
    "plt.legend()\n",
    "plt.show()"
   ]
  },
  {
   "cell_type": "code",
   "execution_count": null,
   "metadata": {},
   "outputs": [
    {
     "name": "stdout",
     "output_type": "stream",
     "text": [
      "(30,)\n"
     ]
    },
    {
     "name": "stderr",
     "output_type": "stream",
     "text": [
      "/tmp/ipykernel_22723/3363734754.py:26: DeprecationWarning: Conversion of an array with ndim > 0 to a scalar is deprecated, and will error in future. Ensure you extract a single element from your array before performing this operation. (Deprecated NumPy 1.25.)\n",
      "  historical_data[-1] = predicted_value\n"
     ]
    }
   ],
   "source": [
    "# defining the number of future time steps to forecast\n",
    "num_forecast_steps = 30\n",
    "\n",
    "# converting to NumPy and remove singleton dimensions\n",
    "sequence_to_plot = X_test.squeeze().cpu().numpy()\n",
    "\n",
    "# use the last 30 data points as the starting point\n",
    "historical_data = sequence_to_plot[-1]\n",
    "print(historical_data.shape)\n",
    "\n",
    "# initializing a list to store the forecasted value\n",
    "forecasted_values = []\n",
    "\n",
    "# using the trained model to forecast the future values\n",
    "with torch.no_grad():\n",
    "    for _ in range(num_forecast_steps*2):\n",
    "        # converting the historical data to a tensor and add an extra dimension\n",
    "        historical_data_tensor = torch.as_tensor(historical_data).view(1, -1, 1).float().to(device)\n",
    "\n",
    "        # prediction for the next time step\n",
    "        predicted_value = model(historical_data_tensor).cpu().numpy()[0,0]\n",
    "        forecasted_values.append(predicted_value)\n",
    "\n",
    "        # updating the historical data with the predicted value\n",
    "        historical_data = np.roll(historical_data, -1)\n",
    "        historical_data[-1] = predicted_value\n",
    "\n",
    "# Generating future dates\n",
    "last_date = test_data.index[-1]\n",
    "future_dates = pd.date_range(start=last_date + pd.DateOffset(1), periods=30)\n",
    "combined_index = test_data.index.append(future_dates)"
   ]
  },
  {
   "cell_type": "code",
   "execution_count": null,
   "metadata": {},
   "outputs": [
    {
     "data": {
      "image/png": "[encoded data removed]",
      "text/plain": [
       "<Figure size 1400x400 with 1 Axes>"
      ]
     },
     "metadata": {},
     "output_type": "display_data"
    }
   ],
   "source": [
    "#setting the size of the plot\n",
    "plt.rcParams['figure.figsize']=[14, 4]\n",
    "\n",
    "\n",
    "#Test Data\n",
    "plt.plot(test_data.index[-100: -30], test_data.Open[-100:-30], label= \"test_data\", color = \"b\")\n",
    "#reversing the scaling transformation\n",
    "original_cases = scaler.inverse_transform(np.expand_dims(sequence_to_plot[-1], axis=0)).flatten()\n",
    "\n",
    "#the historical data used as input for forecasting\n",
    "plt.plot(test_data.index[-30:], original_cases, label='actual values', color='green')\n",
    "\n",
    "#Forecasted Values\n",
    "#reversing the scaling transformation\n",
    "forecasted_cases = scaler.inverse_transform(np.array(forecasted_values).reshape(-1, 1)).flatten()\n",
    "# plotting the forecasted values\n",
    "plt.plot(combined_index[-60:], forecasted_cases, label='forecasted values', color='red')\n",
    "\n",
    "plt.xlabel('Time Step')\n",
    "plt.ylabel('Value')\n",
    "plt.legend()\n",
    "plt.title('Time Series Forecasting')\n",
    "plt.grid(True)"
   ]
  }
 ],
 "metadata": {
  "language_info": {
   "name": "python"
  }
 },
 "nbformat": 4,
 "nbformat_minor": 2
}
